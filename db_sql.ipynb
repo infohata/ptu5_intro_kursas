{
 "cells": [
  {
   "cell_type": "code",
   "execution_count": 1,
   "metadata": {},
   "outputs": [],
   "source": [
    "import sqlite3"
   ]
  },
  {
   "cell_type": "code",
   "execution_count": 3,
   "metadata": {},
   "outputs": [],
   "source": [
    "connector = sqlite3.connect('data/zmones.db')\n",
    "cursor = connector.cursor()\n",
    "\n",
    "query = '''\n",
    "CREATE TABLE IF NOT EXISTS draugai (\n",
    "    first_name VARCHAR(50),\n",
    "    last_name VARCHAR(100),\n",
    "    email VARCHAR(255)\n",
    ");\n",
    "'''\n",
    "\n",
    "cursor.execute(query)\n",
    "connector.commit()\n",
    "connector.close()\n"
   ]
  },
  {
   "cell_type": "code",
   "execution_count": 15,
   "metadata": {},
   "outputs": [],
   "source": [
    "# susijungiame su duomenų baze\n",
    "connector = sqlite3.connect(\"data/zmones.db\")"
   ]
  },
  {
   "cell_type": "code",
   "execution_count": 24,
   "metadata": {},
   "outputs": [],
   "source": [
    "# duomenų įterpimas\n",
    "query = '''\n",
    "INSERT INTO draugai\n",
    "(first_name, last_name, email)\n",
    "VALUES\n",
    "(\"Geras\", \"Programuotojas\", \"coder@gmail.com\")\n",
    "'''\n",
    "\n",
    "# context manager'is atidaro DB, atlieka reikiamus commit, ir uždaro\n",
    "with connector:\n",
    "    connector.cursor().execute(query)\n"
   ]
  },
  {
   "cell_type": "code",
   "execution_count": 25,
   "metadata": {},
   "outputs": [
    {
     "name": "stdout",
     "output_type": "stream",
     "text": [
      "('Smagus', 'Gerulis', 'gerulis@gmail.com')\n",
      "('Geras', 'Smagulis', 'smagulis@gmail.com')\n",
      "('Geras', 'Programuotojas', 'coder@gmail.com')\n"
     ]
    }
   ],
   "source": [
    "# skaitom duomenų bazę (po vieną)\n",
    "with connector:\n",
    "    # kursorių reikia pasiimti į kintamąjį, nes jame nugula rezultato generatorius\n",
    "    cursor = connector.cursor()\n",
    "    cursor.execute(\"SELECT * FROM draugai;\")\n",
    "    print(cursor.fetchone())\n",
    "    print(cursor.fetchone())\n",
    "    print(cursor.fetchone())\n"
   ]
  },
  {
   "cell_type": "code",
   "execution_count": 28,
   "metadata": {},
   "outputs": [
    {
     "name": "stdout",
     "output_type": "stream",
     "text": [
      "[('Smagus', 'Gerulis', 'gerulis@gmail.com'),\n",
      " ('Geras', 'Smagulis', 'smagulis@gmail.com'),\n",
      " ('Žalias', 'Programuotojas', 'coder@gmail.com')]\n"
     ]
    }
   ],
   "source": [
    "from pprint import pprint\n",
    "# nuskaitome visus duomenis į sarašą su .fetchall()\n",
    "with connector:\n",
    "    cursor = connector.cursor()\n",
    "    cursor.execute(\"SELECT * FROM draugai;\")\n",
    "    pprint(cursor.fetchall())\n"
   ]
  },
  {
   "cell_type": "code",
   "execution_count": 16,
   "metadata": {},
   "outputs": [
    {
     "name": "stdout",
     "output_type": "stream",
     "text": [
      "[('Smagus', 'Gerulis', 'gerulis@gmail.com')]\n"
     ]
    }
   ],
   "source": [
    "# taisom situaciją\n",
    "with connector:\n",
    "    cursor = connector.cursor()\n",
    "    cursor.execute(\"DELETE FROM draugai WHERE rowid > 1;\")\n",
    "    cursor.execute(\"SELECT * FROM draugai;\")\n",
    "    print(cursor.fetchall())\n"
   ]
  },
  {
   "cell_type": "code",
   "execution_count": 27,
   "metadata": {},
   "outputs": [
    {
     "name": "stdout",
     "output_type": "stream",
     "text": [
      "[('Smagus', 'Gerulis', 'gerulis@gmail.com'), ('Geras', 'Smagulis', 'smagulis@gmail.com'), ('Žalias', 'Programuotojas', 'coder@gmail.com')]\n"
     ]
    }
   ],
   "source": [
    "# įrašų atnaujinimas\n",
    "with connector:\n",
    "    cursor = connector.cursor()\n",
    "    cursor.execute('UPDATE draugai SET first_name=\"Žalias\" WHERE last_name=\"Programuotojas\"')\n",
    "    cursor.execute('SELECT * FROM draugai;')\n",
    "    print(cursor.fetchall())\n"
   ]
  },
  {
   "cell_type": "code",
   "execution_count": 29,
   "metadata": {},
   "outputs": [],
   "source": [
    "nauji_draugai = [\n",
    "    ('Naujas', 'Draugelis', 'naujas@draugelis.lt'),\n",
    "    ('Grazi', 'Mergaite', 'grazuole@gmail.com'),\n",
    "    ('Senas', 'Diedulis', 'diedux@yahoo.coom'),\n",
    "]\n",
    "\n",
    "with connector:\n",
    "    cursor = connector.cursor()\n",
    "    cursor.executemany('INSERT INTO draugai VALUES (?, ?, ?)', (nauji_draugai))\n"
   ]
  },
  {
   "cell_type": "code",
   "execution_count": 32,
   "metadata": {},
   "outputs": [
    {
     "name": "stdout",
     "output_type": "stream",
     "text": [
      "- (1, 'Smagus', 'Gerulis', 'gerulis@gmail.com')\n",
      "- (3, 'Žalias', 'Programuotojas', 'coder@gmail.com')\n",
      "- (5, 'Grybas', 'Fungauskas', 'grybas@fungus.net')\n",
      "- (7, '\"', 'Kabutinis', 'kabutinis@geras.lt')\n"
     ]
    }
   ],
   "source": [
    "ids = (1, 3, 5, 7)\n",
    "\n",
    "with connector:\n",
    "    cursor = connector.cursor()\n",
    "    cursor.execute('SELECT rowid, * FROM draugai WHERE rowid IN (?, ?, ?, ?)', ids)\n",
    "    draugai = cursor.fetchall()\n",
    "    for draugas in draugai:\n",
    "        print(f'- {draugas}')\n"
   ]
  }
 ],
 "metadata": {
  "kernelspec": {
   "display_name": "Python 3.8.10 ('venv': venv)",
   "language": "python",
   "name": "python3"
  },
  "language_info": {
   "codemirror_mode": {
    "name": "ipython",
    "version": 3
   },
   "file_extension": ".py",
   "mimetype": "text/x-python",
   "name": "python",
   "nbconvert_exporter": "python",
   "pygments_lexer": "ipython3",
   "version": "3.8.10"
  },
  "orig_nbformat": 4,
  "vscode": {
   "interpreter": {
    "hash": "a2cddde078377394000f0627eefad8bfa1b68388b6babd3050c29259627b7066"
   }
  }
 },
 "nbformat": 4,
 "nbformat_minor": 2
}
