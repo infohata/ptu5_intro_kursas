{
 "cells": [
  {
   "cell_type": "code",
   "execution_count": 47,
   "metadata": {},
   "outputs": [],
   "source": [
    "def return_text(some_text):\n",
    "    return some_text"
   ]
  },
  {
   "cell_type": "code",
   "execution_count": 48,
   "metadata": {},
   "outputs": [],
   "source": [
    "def reversed_text(text):\n",
    "    return text[::-1]"
   ]
  },
  {
   "cell_type": "code",
   "execution_count": 49,
   "metadata": {},
   "outputs": [],
   "source": [
    "def upper_text(text, func):\n",
    "    if type(text) != str:\n",
    "        raise ValueError(\"Argument type must be a string.\")\n",
    "    some_text = func(text)\n",
    "    return some_text.upper()"
   ]
  },
  {
   "cell_type": "code",
   "execution_count": 50,
   "metadata": {},
   "outputs": [
    {
     "name": "stdout",
     "output_type": "stream",
     "text": [
      "AJICKNUF OIGYL OINSETŠKUA\n"
     ]
    }
   ],
   "source": [
    "print(upper_text(\"aukštesnio lygio funkcija\", reversed_text))"
   ]
  },
  {
   "cell_type": "code",
   "execution_count": 51,
   "metadata": {},
   "outputs": [],
   "source": [
    "def upper_dec(func):\n",
    "    def wrapper(text):\n",
    "        if type(text) != str:\n",
    "            raise ValueError(\"Argument type must be a string.\")\n",
    "        # some_text = func(text)\n",
    "        # return some_text.upper()\n",
    "        return func(text).upper()\n",
    "    return wrapper\n"
   ]
  },
  {
   "cell_type": "code",
   "execution_count": 52,
   "metadata": {},
   "outputs": [
    {
     "name": "stdout",
     "output_type": "stream",
     "text": [
      "SATSKET SATSREVPA\n",
      "TIESIOG DIDZIOSIOM TEKSTAS\n"
     ]
    }
   ],
   "source": [
    "@upper_dec\n",
    "def reversed_text(text):\n",
    "    return text[::-1]\n",
    "\n",
    "@upper_dec\n",
    "def return_text(some_text):\n",
    "    return some_text\n",
    "\n",
    "print(reversed_text(\"apverstas tekstas\"))\n",
    "print(return_text(\"tiesiog didziosiom tekstas\"))"
   ]
  },
  {
   "cell_type": "code",
   "execution_count": 53,
   "metadata": {},
   "outputs": [],
   "source": [
    "from functools import wraps\n",
    "\n",
    "def lyginis_nelyginis(func):\n",
    "    @wraps(func)\n",
    "    def wrapper(*args, **kwargs):\n",
    "        \"\"\" nurodo, ar funkcijos rezultatas yra lyginis/nelyginis skaičius \"\"\"\n",
    "        result = func(*args, **kwargs)\n",
    "        if result % 2 != 0:\n",
    "            return result, 'nelyginis'\n",
    "        return result, 'lyginis'\n",
    "    return wrapper\n"
   ]
  },
  {
   "cell_type": "code",
   "execution_count": 54,
   "metadata": {},
   "outputs": [],
   "source": [
    "@lyginis_nelyginis\n",
    "def duok_desim():\n",
    "    \"\"\" gražina 10 \"\"\"\n",
    "    return 10\n",
    "\n",
    "@lyginis_nelyginis\n",
    "def daugyba(x, y):\n",
    "    return x * y\n",
    "\n",
    "@lyginis_nelyginis\n",
    "def sumuoti_viska(*args):\n",
    "    return sum(args)\n"
   ]
  },
  {
   "cell_type": "code",
   "execution_count": 55,
   "metadata": {},
   "outputs": [
    {
     "name": "stdout",
     "output_type": "stream",
     "text": [
      "(10, 'lyginis')\n",
      "(77, 'nelyginis')\n",
      "(21, 'nelyginis')\n"
     ]
    }
   ],
   "source": [
    "print(duok_desim())\n",
    "print(daugyba(11, 7))\n",
    "print(sumuoti_viska(5, 4, 3, 2, 7))"
   ]
  },
  {
   "cell_type": "code",
   "execution_count": 56,
   "metadata": {},
   "outputs": [
    {
     "name": "stdout",
     "output_type": "stream",
     "text": [
      "duok_desim\n",
      " gražina 10 \n"
     ]
    }
   ],
   "source": [
    "print(duok_desim.__name__)\n",
    "print(duok_desim.__doc__)"
   ]
  }
 ],
 "metadata": {
  "kernelspec": {
   "display_name": "Python 3.8.10 ('venv': venv)",
   "language": "python",
   "name": "python3"
  },
  "language_info": {
   "codemirror_mode": {
    "name": "ipython",
    "version": 3
   },
   "file_extension": ".py",
   "mimetype": "text/x-python",
   "name": "python",
   "nbconvert_exporter": "python",
   "pygments_lexer": "ipython3",
   "version": "3.8.10"
  },
  "orig_nbformat": 4,
  "vscode": {
   "interpreter": {
    "hash": "a2cddde078377394000f0627eefad8bfa1b68388b6babd3050c29259627b7066"
   }
  }
 },
 "nbformat": 4,
 "nbformat_minor": 2
}
