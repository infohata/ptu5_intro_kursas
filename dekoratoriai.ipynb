{
 "cells": [
  {
   "cell_type": "code",
   "execution_count": 2,
   "metadata": {},
   "outputs": [],
   "source": [
    "def return_text(some_text):\n",
    "    return some_text"
   ]
  },
  {
   "cell_type": "code",
   "execution_count": 5,
   "metadata": {},
   "outputs": [],
   "source": [
    "def upper_text(text, func):\n",
    "    if type(text) != str:\n",
    "        raise ValueError(\"Argument type must be a string.\")\n",
    "    some_text = func(text)\n",
    "    return some_text.upper()"
   ]
  },
  {
   "cell_type": "code",
   "execution_count": 7,
   "metadata": {},
   "outputs": [],
   "source": [
    "def reversed_text(text):\n",
    "    return text[::-1]"
   ]
  },
  {
   "cell_type": "code",
   "execution_count": 8,
   "metadata": {},
   "outputs": [
    {
     "name": "stdout",
     "output_type": "stream",
     "text": [
      "AJICKNUF OIGYL OINSETŠKUA\n"
     ]
    }
   ],
   "source": [
    "print(upper_text(\"aukštesnio lygio funkcija\", reversed_text))"
   ]
  },
  {
   "cell_type": "code",
   "execution_count": 9,
   "metadata": {},
   "outputs": [],
   "source": [
    "def upper_dec(func):\n",
    "    def wrapper(text):\n",
    "        if type(text) != str:\n",
    "            raise ValueError(\"Argument type must be a string.\")\n",
    "        some_text = func(text)\n",
    "        return some_text.upper()\n",
    "    return wrapper\n"
   ]
  },
  {
   "cell_type": "code",
   "execution_count": 10,
   "metadata": {},
   "outputs": [],
   "source": [
    "@upper_dec\n",
    "def reversed_text(text):\n",
    "    return text[::-1]\n",
    "\n",
    "print(reversed_text(\"apverstas tekstas\"))"
   ]
  }
 ],
 "metadata": {
  "kernelspec": {
   "display_name": "Python 3.8.10 ('venv': venv)",
   "language": "python",
   "name": "python3"
  },
  "language_info": {
   "codemirror_mode": {
    "name": "ipython",
    "version": 3
   },
   "file_extension": ".py",
   "mimetype": "text/x-python",
   "name": "python",
   "nbconvert_exporter": "python",
   "pygments_lexer": "ipython3",
   "version": "3.8.10"
  },
  "orig_nbformat": 4,
  "vscode": {
   "interpreter": {
    "hash": "a2cddde078377394000f0627eefad8bfa1b68388b6babd3050c29259627b7066"
   }
  }
 },
 "nbformat": 4,
 "nbformat_minor": 2
}
