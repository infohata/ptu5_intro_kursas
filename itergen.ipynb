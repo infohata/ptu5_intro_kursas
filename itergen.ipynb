{
 "cells": [
  {
   "cell_type": "markdown",
   "metadata": {},
   "source": [
    "# Iteratoriai"
   ]
  },
  {
   "cell_type": "code",
   "execution_count": 11,
   "metadata": {},
   "outputs": [
    {
     "name": "stdout",
     "output_type": "stream",
     "text": [
      "<class 'str_iterator'>\n"
     ]
    }
   ],
   "source": [
    "iteratorius = iter(\"Labas\")\n",
    "print(type(iteratorius))"
   ]
  },
  {
   "cell_type": "code",
   "execution_count": 16,
   "metadata": {},
   "outputs": [
    {
     "name": "stdout",
     "output_type": "stream",
     "text": [
      "s\n"
     ]
    }
   ],
   "source": [
    "print(next(iteratorius))"
   ]
  },
  {
   "cell_type": "code",
   "execution_count": 18,
   "metadata": {},
   "outputs": [
    {
     "name": "stdout",
     "output_type": "stream",
     "text": [
      "5\n",
      "4\n",
      "7\n",
      "2\n"
     ]
    }
   ],
   "source": [
    "skaiciai = [5, 4, 7, 2]\n",
    "iterskai = iter(skaiciai)\n",
    "\n",
    "while True:\n",
    "    try:\n",
    "        print(next(iterskai))\n",
    "    except StopIteration:\n",
    "        break\n"
   ]
  },
  {
   "cell_type": "markdown",
   "metadata": {},
   "source": [
    "### matuojam atmintį"
   ]
  },
  {
   "cell_type": "code",
   "execution_count": 20,
   "metadata": {},
   "outputs": [
    {
     "name": "stdout",
     "output_type": "stream",
     "text": [
      "pmem(rss=82710528, vms=748040192, shared=15036416, text=2863104, lib=0, data=152686592, dirty=0)\n"
     ]
    }
   ],
   "source": [
    "import os, psutil\n",
    "process = psutil.Process(os.getpid())\n",
    "print(process.memory_info())"
   ]
  },
  {
   "cell_type": "code",
   "execution_count": 27,
   "metadata": {},
   "outputs": [],
   "source": [
    "def iteruoklis(objektas, funkcija):\n",
    "    iteratorius = iter(objektas)\n",
    "    while True:\n",
    "        try:\n",
    "            result = next(iteratorius)\n",
    "        except StopIteration:\n",
    "            break\n",
    "        else:\n",
    "            funkcija(result)\n"
   ]
  },
  {
   "cell_type": "code",
   "execution_count": 28,
   "metadata": {},
   "outputs": [
    {
     "name": "stdout",
     "output_type": "stream",
     "text": [
      "Jurgis\n",
      "Antanas\n",
      "Aloyzas\n",
      "Martynas\n"
     ]
    }
   ],
   "source": [
    "broliai = [\"Jurgis\", \"Antanas\", \"Aloyzas\", \"Martynas\"]\n",
    "iteruoklis(broliai, print)"
   ]
  },
  {
   "cell_type": "code",
   "execution_count": 29,
   "metadata": {},
   "outputs": [
    {
     "name": "stdout",
     "output_type": "stream",
     "text": [
      "3.3166247903554\n",
      "2.23606797749979\n",
      "3.0\n",
      "8.774964387392123\n",
      "6.48074069840786\n",
      "8.306623862918075\n",
      "4.58257569495584\n",
      "5.0\n"
     ]
    }
   ],
   "source": [
    "from math import sqrt\n",
    "def print_sqrt(skaicius):\n",
    "    print(sqrt(abs(skaicius)))\n",
    "\n",
    "skaiciai = [11, -5, 9, 77, 42, 69, -21, 25]\n",
    "iteruoklis(skaiciai, print_sqrt)"
   ]
  },
  {
   "cell_type": "code",
   "execution_count": 38,
   "metadata": {},
   "outputs": [
    {
     "name": "stdout",
     "output_type": "stream",
     "text": [
      "senas\n",
      "jaunas\n",
      "99\n",
      "18\n",
      "('senas', 99)\n",
      "('jaunas', 18)\n"
     ]
    }
   ],
   "source": [
    "dictas = {\"senas\": 99, \"jaunas\": 18}\n",
    "iteruoklis(dictas, print)\n",
    "iteruoklis(dictas.values(), print)\n",
    "iteruoklis(dictas.items(), print)"
   ]
  },
  {
   "cell_type": "markdown",
   "metadata": {},
   "source": [
    "# Generatoriai"
   ]
  },
  {
   "cell_type": "code",
   "execution_count": 39,
   "metadata": {},
   "outputs": [],
   "source": [
    "def skaicuojam(iki):\n",
    "    count = 1\n",
    "    while count <= iki:\n",
    "        yield count\n",
    "        count += 1\n"
   ]
  },
  {
   "cell_type": "code",
   "execution_count": 58,
   "metadata": {},
   "outputs": [],
   "source": [
    "counter = skaicuojam(5)"
   ]
  },
  {
   "cell_type": "code",
   "execution_count": 62,
   "metadata": {},
   "outputs": [
    {
     "name": "stdout",
     "output_type": "stream",
     "text": [
      "4\n"
     ]
    }
   ],
   "source": [
    "print(next(counter))"
   ]
  },
  {
   "cell_type": "code",
   "execution_count": 63,
   "metadata": {},
   "outputs": [
    {
     "name": "stdout",
     "output_type": "stream",
     "text": [
      "1\n",
      "2\n",
      "3\n",
      "4\n",
      "5\n",
      "6\n",
      "7\n"
     ]
    }
   ],
   "source": [
    "iteruoklis(skaicuojam(7), print)"
   ]
  },
  {
   "cell_type": "code",
   "execution_count": 65,
   "metadata": {},
   "outputs": [
    {
     "name": "stdout",
     "output_type": "stream",
     "text": [
      "[1, 2, 3, 4, 5, 6, 7, 8, 9, 10, 11]\n"
     ]
    }
   ],
   "source": [
    "skaiciai = skaicuojam(11)\n",
    "print(list(skaiciai))"
   ]
  },
  {
   "cell_type": "code",
   "execution_count": 66,
   "metadata": {},
   "outputs": [
    {
     "name": "stdout",
     "output_type": "stream",
     "text": [
      "1\n",
      "2\n",
      "3\n"
     ]
    }
   ],
   "source": [
    "skaiciai = list(skaicuojam(3))\n",
    "for skaicius in skaiciai:\n",
    "    print(skaicius)"
   ]
  },
  {
   "cell_type": "code",
   "execution_count": 68,
   "metadata": {},
   "outputs": [
    {
     "name": "stdout",
     "output_type": "stream",
     "text": [
      "1\n",
      "2\n",
      "3\n",
      "[4, 5, 6, 7, 8, 9, 10]\n"
     ]
    }
   ],
   "source": [
    "skaiciai = skaicuojam(10)\n",
    "print(next(skaiciai))\n",
    "print(next(skaiciai))\n",
    "print(next(skaiciai))\n",
    "print(list(skaiciai))"
   ]
  },
  {
   "cell_type": "code",
   "execution_count": 72,
   "metadata": {},
   "outputs": [
    {
     "name": "stdout",
     "output_type": "stream",
     "text": [
      "0.0\n",
      "1.0\n",
      "2.0\n",
      "3.0\n",
      "4.0\n",
      "5.0\n",
      "6.0\n",
      "7.0\n",
      "8.0\n",
      "9.0\n"
     ]
    }
   ],
   "source": [
    "gen = (x ** 2 for x in range(10))\n",
    "print(list(gen))\n",
    "gen = (x ** 2 for x in range(10))\n",
    "iteruoklis(gen, print)\n",
    "gen = (x ** 2 for x in range(10))\n",
    "iteruoklis(gen, print_sqrt)"
   ]
  }
 ],
 "metadata": {
  "kernelspec": {
   "display_name": "Python 3.8.10 ('venv': venv)",
   "language": "python",
   "name": "python3"
  },
  "language_info": {
   "codemirror_mode": {
    "name": "ipython",
    "version": 3
   },
   "file_extension": ".py",
   "mimetype": "text/x-python",
   "name": "python",
   "nbconvert_exporter": "python",
   "pygments_lexer": "ipython3",
   "version": "3.8.10"
  },
  "orig_nbformat": 4,
  "vscode": {
   "interpreter": {
    "hash": "a2cddde078377394000f0627eefad8bfa1b68388b6babd3050c29259627b7066"
   }
  }
 },
 "nbformat": 4,
 "nbformat_minor": 2
}
