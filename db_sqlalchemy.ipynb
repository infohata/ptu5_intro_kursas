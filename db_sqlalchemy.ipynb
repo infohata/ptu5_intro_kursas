{
 "cells": [
  {
   "cell_type": "code",
   "execution_count": 1,
   "metadata": {},
   "outputs": [],
   "source": [
    "import datetime\n",
    "from sqlalchemy import Column, Integer, String, Float, DateTime, create_engine\n",
    "from sqlalchemy.ext.declarative import declarative_base\n",
    "\n",
    "engine = create_engine('sqlite:///data/projektai.db')\n",
    "Base = declarative_base()"
   ]
  },
  {
   "cell_type": "code",
   "execution_count": 2,
   "metadata": {},
   "outputs": [],
   "source": [
    "class Projektas(Base):\n",
    "    __tablename__ = 'projektas'\n",
    "    id = Column(Integer, primary_key=True)\n",
    "    name = Column(\"pavadinimas\", String)\n",
    "    price = Column(\"kaina\", Float)\n",
    "    created_date = Column(\"sukurta\", DateTime, default=datetime.datetime.utcnow)\n",
    "\n",
    "    def __init__(self, name, price):\n",
    "        self.name = name\n",
    "        self.price = price\n",
    "\n",
    "    def __repr__(self):\n",
    "        return f\"({self.id}, {self.name}, {self.price}, {self.created_date})\"\n"
   ]
  },
  {
   "cell_type": "code",
   "execution_count": 4,
   "metadata": {},
   "outputs": [],
   "source": [
    "Base.metadata.create_all(engine)"
   ]
  },
  {
   "cell_type": "code",
   "execution_count": 6,
   "metadata": {},
   "outputs": [],
   "source": [
    "from sqlalchemy.orm import sessionmaker\n",
    "# Session = sessionmaker(bind=engine)\n",
    "# session = Session()\n",
    "session = sessionmaker(bind=engine)()"
   ]
  },
  {
   "cell_type": "markdown",
   "metadata": {},
   "source": [
    "# CRUD\n",
    "* Create\n",
    "* Read\n",
    "* Update\n",
    "* Delete"
   ]
  },
  {
   "cell_type": "code",
   "execution_count": 7,
   "metadata": {},
   "outputs": [],
   "source": [
    "# create (Crud)\n",
    "projektas1 = Projektas(\"Pirmas projektas\", 20000)\n",
    "session.add(projektas1)\n",
    "session.commit()"
   ]
  },
  {
   "cell_type": "code",
   "execution_count": 39,
   "metadata": {},
   "outputs": [],
   "source": [
    "projektas2 = Projektas(\"Antras projektas\", 55000)\n",
    "session.add(projektas2)\n",
    "session.commit()"
   ]
  },
  {
   "cell_type": "code",
   "execution_count": 19,
   "metadata": {},
   "outputs": [
    {
     "data": {
      "text/plain": [
       "20000.0"
      ]
     },
     "execution_count": 19,
     "metadata": {},
     "output_type": "execute_result"
    }
   ],
   "source": [
    "# read one\n",
    "projektas = session.query(Projektas).get(1)\n",
    "# projektas\n",
    "# projektas.name\n",
    "projektas.price\n",
    "# type(projektas.price)"
   ]
  },
  {
   "cell_type": "code",
   "execution_count": 20,
   "metadata": {},
   "outputs": [
    {
     "data": {
      "text/plain": [
       "[(1, Pirmas projektas, 20000.0, 2022-10-14 07:38:12.731482),\n",
       " (2, Antras projektas, 55000.0, 2022-10-14 07:38:59.004390)]"
      ]
     },
     "execution_count": 20,
     "metadata": {},
     "output_type": "execute_result"
    }
   ],
   "source": [
    "# Read many (cRud)\n",
    "projektai = session.query(Projektas).all()\n",
    "projektai"
   ]
  },
  {
   "cell_type": "code",
   "execution_count": 24,
   "metadata": {},
   "outputs": [
    {
     "data": {
      "text/plain": [
       "[(1, Pirmas projektas, 20000.0, 2022-10-14 07:38:12.731482)]"
      ]
     },
     "execution_count": 24,
     "metadata": {},
     "output_type": "execute_result"
    }
   ],
   "source": [
    "# search\n",
    "search = session.query(Projektas).filter(Projektas.name.ilike(\"pirmas%\")).all()\n",
    "search"
   ]
  },
  {
   "cell_type": "code",
   "execution_count": 25,
   "metadata": {},
   "outputs": [
    {
     "data": {
      "text/plain": [
       "[(2, Antras projektas, 55000.0, 2022-10-14 07:38:59.004390)]"
      ]
     },
     "execution_count": 25,
     "metadata": {},
     "output_type": "execute_result"
    }
   ],
   "source": [
    "search2 = session.query(Projektas).filter(Projektas.price > 25000).all()\n",
    "search2"
   ]
  },
  {
   "cell_type": "code",
   "execution_count": 40,
   "metadata": {},
   "outputs": [
    {
     "data": {
      "text/plain": [
       "[(2, Antras projektas, 55000.0, 2022-10-14 08:16:43.866255)]"
      ]
     },
     "execution_count": 40,
     "metadata": {},
     "output_type": "execute_result"
    }
   ],
   "source": [
    "search3 = session.query(Projektas).filter(\n",
    "    Projektas.price > 20000,\n",
    "    Projektas.name.ilike(\"Antras%\"),\n",
    ").all()\n",
    "search3"
   ]
  },
  {
   "cell_type": "code",
   "execution_count": 32,
   "metadata": {},
   "outputs": [],
   "source": [
    "# Update (crUd)\n",
    "atnaujinamas_projektas = session.query(Projektas).get(2)\n",
    "atnaujinamas_projektas.price = 51300\n",
    "session.commit()"
   ]
  },
  {
   "cell_type": "code",
   "execution_count": 37,
   "metadata": {},
   "outputs": [],
   "source": [
    "# Delete (cruD)\n",
    "trinamas = session.query(Projektas).filter(Projektas.id == 2).one()\n",
    "session.delete(trinamas)\n",
    "session.commit()"
   ]
  }
 ],
 "metadata": {
  "kernelspec": {
   "display_name": "Python 3.8.10 ('venv': venv)",
   "language": "python",
   "name": "python3"
  },
  "language_info": {
   "codemirror_mode": {
    "name": "ipython",
    "version": 3
   },
   "file_extension": ".py",
   "mimetype": "text/x-python",
   "name": "python",
   "nbconvert_exporter": "python",
   "pygments_lexer": "ipython3",
   "version": "3.8.10"
  },
  "orig_nbformat": 4,
  "vscode": {
   "interpreter": {
    "hash": "a2cddde078377394000f0627eefad8bfa1b68388b6babd3050c29259627b7066"
   }
  }
 },
 "nbformat": 4,
 "nbformat_minor": 2
}
