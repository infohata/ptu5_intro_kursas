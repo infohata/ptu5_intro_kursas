{
 "cells": [
  {
   "cell_type": "markdown",
   "metadata": {},
   "source": [
    "# numpy"
   ]
  },
  {
   "cell_type": "code",
   "execution_count": 5,
   "metadata": {},
   "outputs": [],
   "source": [
    "import numpy as np\n"
   ]
  },
  {
   "cell_type": "code",
   "execution_count": 9,
   "metadata": {},
   "outputs": [
    {
     "name": "stdout",
     "output_type": "stream",
     "text": [
      "[5 1 3 7 6]\n"
     ]
    }
   ],
   "source": [
    "sarasas = [5, 1, 3, 7, 6]\n",
    "vektorius = np.array(sarasas)\n",
    "print(vektorius)"
   ]
  },
  {
   "cell_type": "code",
   "execution_count": 11,
   "metadata": {},
   "outputs": [
    {
     "name": "stdout",
     "output_type": "stream",
     "text": [
      "[[4 5 6]\n",
      " [1 2 3]\n",
      " [7 8 9]]\n"
     ]
    }
   ],
   "source": [
    "sarasai = [\n",
    "    [4, 5, 6],\n",
    "    [1, 2, 3], \n",
    "    [7, 8, 9]\n",
    "]\n",
    "matrica = np.matrix(sarasai)\n",
    "print(matrica)"
   ]
  },
  {
   "cell_type": "code",
   "execution_count": 15,
   "metadata": {},
   "outputs": [
    {
     "data": {
      "text/plain": [
       "array([ 0,  7, 14, 21, 28, 35, 42, 49, 56, 63, 70, 77])"
      ]
     },
     "execution_count": 15,
     "metadata": {},
     "output_type": "execute_result"
    }
   ],
   "source": [
    "np.arange(0, 78, 7)"
   ]
  },
  {
   "cell_type": "code",
   "execution_count": 18,
   "metadata": {},
   "outputs": [
    {
     "name": "stdout",
     "output_type": "stream",
     "text": [
      "[0. 0. 0. 0. 0. 0. 0.]\n"
     ]
    }
   ],
   "source": [
    "print(np.zeros(7))"
   ]
  },
  {
   "cell_type": "code",
   "execution_count": 29,
   "metadata": {},
   "outputs": [
    {
     "name": "stdout",
     "output_type": "stream",
     "text": [
      "[[0 0 0 0 0 0 0]\n",
      " [0 0 0 0 0 0 0]\n",
      " [0 0 0 0 0 0 0]\n",
      " [0 0 0 0 0 0 0]\n",
      " [0 0 0 0 0 0 0]\n",
      " [0 0 0 0 0 0 0]\n",
      " [0 0 0 0 0 0 0]]\n"
     ]
    }
   ],
   "source": [
    "print(np.zeros((7, 7), dtype=int))"
   ]
  },
  {
   "cell_type": "code",
   "execution_count": 36,
   "metadata": {},
   "outputs": [
    {
     "name": "stdout",
     "output_type": "stream",
     "text": [
      "[ 0.  5. 10. 15. 20.]\n"
     ]
    }
   ],
   "source": [
    "print(np.linspace(0, 20, 5))"
   ]
  },
  {
   "cell_type": "code",
   "execution_count": 43,
   "metadata": {},
   "outputs": [
    {
     "name": "stdout",
     "output_type": "stream",
     "text": [
      "[[1 0 0 0 0 0 0]\n",
      " [0 1 0 0 0 0 0]\n",
      " [0 0 1 0 0 0 0]\n",
      " [0 0 0 1 5 0 0]\n",
      " [0 0 0 0 1 0 0]\n",
      " [0 0 0 0 0 1 0]\n",
      " [0 0 0 0 0 0 1]]\n"
     ]
    }
   ],
   "source": [
    "vienetine = np.eye(7, dtype=int)\n",
    "vienetine[3,4] = 5\n",
    "print(vienetine)"
   ]
  },
  {
   "cell_type": "markdown",
   "metadata": {},
   "source": [
    "# random array/matricos"
   ]
  },
  {
   "cell_type": "code",
   "execution_count": 46,
   "metadata": {},
   "outputs": [
    {
     "data": {
      "text/plain": [
       "array([0.48869265, 0.64579509, 0.92818526, 0.23786825, 0.02614187,\n",
       "       0.33811044, 0.95557791, 0.15632094, 0.11393486, 0.33267459])"
      ]
     },
     "execution_count": 46,
     "metadata": {},
     "output_type": "execute_result"
    }
   ],
   "source": [
    "np.random.rand(10)"
   ]
  },
  {
   "cell_type": "code",
   "execution_count": 51,
   "metadata": {},
   "outputs": [
    {
     "name": "stdout",
     "output_type": "stream",
     "text": [
      "[[0.65584406 0.54517184 0.83930666]\n",
      " [0.62378472 0.22302825 0.5126118 ]\n",
      " [0.85433087 0.15442824 0.96270159]]\n"
     ]
    }
   ],
   "source": [
    "print(np.random.rand(3, 3))"
   ]
  },
  {
   "cell_type": "code",
   "execution_count": 54,
   "metadata": {},
   "outputs": [
    {
     "name": "stdout",
     "output_type": "stream",
     "text": [
      "[[ 0.39699107  1.19120132  2.27922555]\n",
      " [ 0.52243496  1.14807552 -1.30580444]\n",
      " [-0.10024406 -0.26752185 -0.82590096]]\n"
     ]
    }
   ],
   "source": [
    "print(np.random.randn(3, 3))"
   ]
  },
  {
   "cell_type": "code",
   "execution_count": 60,
   "metadata": {},
   "outputs": [
    {
     "name": "stdout",
     "output_type": "stream",
     "text": [
      "[-1  1  4 -7  1  4  6 -3 -9  3 -6  1  2  2 -6 -8 -4 -4 -7  1  9  0 -8 -3\n",
      " -9  1  0 -9  3 -4 -5 -2  2  3 -9  3  9 -8  0  2 -9 -3  1  3  9  1 -3  9\n",
      "  4 -9 -1 -5 -3 -8  3 -6  7 -9 -6 -1 -7 -5  7  0 -6  7 -2  1  4  5 -2  7\n",
      " -3  3 -4 -6  6]\n"
     ]
    }
   ],
   "source": [
    "print(np.random.randint(-9, 10, 77))"
   ]
  },
  {
   "cell_type": "markdown",
   "metadata": {},
   "source": [
    "# masyvų pertvarkymas"
   ]
  },
  {
   "cell_type": "code",
   "execution_count": 81,
   "metadata": {},
   "outputs": [
    {
     "name": "stdout",
     "output_type": "stream",
     "text": [
      "[[ 36 -47 -36 -21 -78  39 -90 -95]\n",
      " [ -2  76 -79  77  -6   8  98  21]\n",
      " [-73 -45 -87  20 -87 -50 -44  71]\n",
      " [ 34 -80  21  31 -30  37 -78  83]\n",
      " [ 30  -2 -94 -27 -67  62  49  96]]\n"
     ]
    }
   ],
   "source": [
    "masyvas = np.random.randint(-99, 100, 40)\n",
    "pertvarkyta = masyvas.reshape(5, 8)\n",
    "print(pertvarkyta)"
   ]
  },
  {
   "cell_type": "code",
   "execution_count": 82,
   "metadata": {},
   "outputs": [
    {
     "name": "stdout",
     "output_type": "stream",
     "text": [
      "-95\n",
      "98\n"
     ]
    }
   ],
   "source": [
    "print(pertvarkyta.min())\n",
    "print(pertvarkyta.max())"
   ]
  },
  {
   "cell_type": "code",
   "execution_count": 83,
   "metadata": {},
   "outputs": [
    {
     "name": "stdout",
     "output_type": "stream",
     "text": [
      "7\n",
      "14\n"
     ]
    }
   ],
   "source": [
    "print(pertvarkyta.argmin())\n",
    "print(pertvarkyta.argmax())"
   ]
  },
  {
   "cell_type": "code",
   "execution_count": 85,
   "metadata": {},
   "outputs": [
    {
     "name": "stdout",
     "output_type": "stream",
     "text": [
      "(5, 8)\n",
      "int64\n"
     ]
    }
   ],
   "source": [
    "print(pertvarkyta.shape)\n",
    "print(pertvarkyta.dtype)"
   ]
  },
  {
   "cell_type": "code",
   "execution_count": 91,
   "metadata": {},
   "outputs": [
    {
     "data": {
      "text/plain": [
       "20"
      ]
     },
     "execution_count": 91,
     "metadata": {},
     "output_type": "execute_result"
    }
   ],
   "source": [
    "len(str(2**64))"
   ]
  },
  {
   "cell_type": "markdown",
   "metadata": {},
   "source": [
    "# indeksacija ir reikšmių traukimas"
   ]
  },
  {
   "cell_type": "code",
   "execution_count": 93,
   "metadata": {},
   "outputs": [
    {
     "data": {
      "text/plain": [
       "39"
      ]
     },
     "execution_count": 93,
     "metadata": {},
     "output_type": "execute_result"
    }
   ],
   "source": [
    "masyvas[5]"
   ]
  },
  {
   "cell_type": "code",
   "execution_count": 96,
   "metadata": {},
   "outputs": [
    {
     "data": {
      "text/plain": [
       "array([-21, -78,  39, -90, -95,  -2,  76, -79,  77,  -6])"
      ]
     },
     "execution_count": 96,
     "metadata": {},
     "output_type": "execute_result"
    }
   ],
   "source": [
    "masyvas[3:13]"
   ]
  },
  {
   "cell_type": "code",
   "execution_count": 102,
   "metadata": {},
   "outputs": [],
   "source": [
    "masyvas[::4] = 44\n",
    "masyvas[7] = 77\n",
    "masyvas[21] = -42"
   ]
  },
  {
   "cell_type": "code",
   "execution_count": 103,
   "metadata": {},
   "outputs": [
    {
     "data": {
      "text/plain": [
       "array([[ 44, -47, -36, -21,  44,  39, -90,  77,  44,  76],\n",
       "       [-79,  77,  44,   8,  98,  21,  44, -45, -87,  20],\n",
       "       [ 44, -42, -44,  71,  44, -80,  21,  31,  44,  37],\n",
       "       [-78,  83,  44,  -2, -94, -27,  44,  62,  49,  96]])"
      ]
     },
     "execution_count": 103,
     "metadata": {},
     "output_type": "execute_result"
    }
   ],
   "source": [
    "masyvas.reshape(4, 10)"
   ]
  },
  {
   "cell_type": "code",
   "execution_count": 98,
   "metadata": {},
   "outputs": [
    {
     "data": {
      "text/plain": [
       "36"
      ]
     },
     "execution_count": 98,
     "metadata": {},
     "output_type": "execute_result"
    }
   ],
   "source": [
    "pertvarkyta[0, 0]"
   ]
  },
  {
   "cell_type": "code",
   "execution_count": 105,
   "metadata": {},
   "outputs": [
    {
     "data": {
      "text/plain": [
       "array([[  8,  98,  21],\n",
       "       [-42, -44,  71],\n",
       "       [ 37, -78,  83]])"
      ]
     },
     "execution_count": 105,
     "metadata": {},
     "output_type": "execute_result"
    }
   ],
   "source": [
    "pertvarkyta[1:4, 5:8]"
   ]
  },
  {
   "cell_type": "code",
   "execution_count": 139,
   "metadata": {},
   "outputs": [
    {
     "data": {
      "text/plain": [
       "array([[87, 30,  2, 31, 46, 93,  0, 23, 38, 50],\n",
       "       [45, 88, 38, 59, 87, 50, 87, 70, 34, 61],\n",
       "       [10, 30, 68, 73, 99, 68, 97, 60, 98, 36],\n",
       "       [25, 38, 80, 66, 48, 84, 74, 52, 18, 76],\n",
       "       [ 0, 76, 90, 96, 49,  0, 55, 26,  3, 57],\n",
       "       [15, 77, 43, 53, 18, 76, 49, 36, 52, 51],\n",
       "       [95, 81, 61, 70, 12, 79, 13, 39, 43, 42],\n",
       "       [ 7,  2, 75, 62, 86, 59, 16, 24, 27, 65],\n",
       "       [29, 11, 87, 18, 33, 35, 68, 40, 98, 65],\n",
       "       [44, 14, 62, 23, 39,  6, 28,  3,  8, 51]])"
      ]
     },
     "execution_count": 139,
     "metadata": {},
     "output_type": "execute_result"
    }
   ],
   "source": [
    "masyvas = np.random.randint(0, 100, 100)\n",
    "matrica = masyvas.reshape(10, 10)\n",
    "matrica"
   ]
  },
  {
   "cell_type": "code",
   "execution_count": 108,
   "metadata": {},
   "outputs": [
    {
     "data": {
      "text/plain": [
       "array([[11, 72, 42, 81, 62],\n",
       "       [86, 94, 95, 64, 57],\n",
       "       [27, 22, 32,  5, 78],\n",
       "       [ 8, 32,  6, 64,  0],\n",
       "       [91, 80, 20, 37, 86]])"
      ]
     },
     "execution_count": 108,
     "metadata": {},
     "output_type": "execute_result"
    }
   ],
   "source": [
    "matrica[::2, ::2]"
   ]
  },
  {
   "cell_type": "code",
   "execution_count": 112,
   "metadata": {},
   "outputs": [
    {
     "data": {
      "text/plain": [
       "array([[86, 37, 20, 80, 91],\n",
       "       [ 0, 64,  6, 32,  8],\n",
       "       [78,  5, 32, 22, 27],\n",
       "       [57, 64, 95, 94, 86],\n",
       "       [62, 81, 42, 72, 11]])"
      ]
     },
     "execution_count": 112,
     "metadata": {},
     "output_type": "execute_result"
    }
   ],
   "source": [
    "matrica[-2::-2, -2::-2]"
   ]
  },
  {
   "cell_type": "code",
   "execution_count": 118,
   "metadata": {},
   "outputs": [
    {
     "data": {
      "text/plain": [
       "array([[11, 93],\n",
       "       [51, 47],\n",
       "       [86, 86],\n",
       "       [35, 78],\n",
       "       [27,  2],\n",
       "       [46, 18],\n",
       "       [ 8, 78],\n",
       "       [92, 16],\n",
       "       [91, 19],\n",
       "       [19, 89]])"
      ]
     },
     "execution_count": 118,
     "metadata": {},
     "output_type": "execute_result"
    }
   ],
   "source": [
    "matrica[:, 0:2]"
   ]
  },
  {
   "cell_type": "markdown",
   "metadata": {},
   "source": [
    "# traukimas pagal sąlygą"
   ]
  },
  {
   "cell_type": "code",
   "execution_count": 122,
   "metadata": {},
   "outputs": [
    {
     "data": {
      "text/plain": [
       "array([11, 93, 72,  8, 42, 13, 81, 61, 62, 21, 51, 47, 30, 65,  3, 32, 86,\n",
       "       81, 67, 84, 86, 86, 94, 64, 95, 43, 64, 53, 57, 82, 35, 78, 38, 97,\n",
       "       68, 92, 20, 49, 16, 93, 27,  2, 22, 37, 32, 54,  5, 38, 78, 90, 46,\n",
       "       18, 96, 62, 69, 57, 73,  3, 96, 85,  8, 78, 32, 92,  6, 13, 64, 78,\n",
       "        0, 96, 92, 16, 72, 61, 62, 88, 75, 77, 18, 93, 91, 19, 80, 19, 20,\n",
       "        2, 37, 96, 86, 79, 19, 89, 16, 14, 31,  2,  8, 46, 82, 35])"
      ]
     },
     "execution_count": 122,
     "metadata": {},
     "output_type": "execute_result"
    }
   ],
   "source": [
    "masyvas"
   ]
  },
  {
   "cell_type": "code",
   "execution_count": 123,
   "metadata": {},
   "outputs": [
    {
     "data": {
      "text/plain": [
       "array([False,  True,  True, False,  True, False,  True,  True,  True,\n",
       "       False,  True,  True, False,  True, False,  True,  True,  True,\n",
       "        True,  True,  True,  True,  True,  True,  True,  True,  True,\n",
       "        True,  True,  True,  True,  True,  True,  True,  True,  True,\n",
       "       False,  True, False,  True, False, False, False,  True,  True,\n",
       "        True, False,  True,  True,  True,  True, False,  True,  True,\n",
       "        True,  True,  True, False,  True,  True, False,  True,  True,\n",
       "        True, False, False,  True,  True, False,  True,  True, False,\n",
       "        True,  True,  True,  True,  True,  True, False,  True,  True,\n",
       "       False,  True, False, False, False,  True,  True,  True,  True,\n",
       "       False,  True, False, False,  True, False, False,  True,  True,\n",
       "        True])"
      ]
     },
     "execution_count": 123,
     "metadata": {},
     "output_type": "execute_result"
    }
   ],
   "source": [
    "masyvas > 30"
   ]
  },
  {
   "cell_type": "code",
   "execution_count": 121,
   "metadata": {},
   "outputs": [
    {
     "data": {
      "text/plain": [
       "array([93, 72, 42, 81, 61, 62, 51, 47, 65, 32, 86, 81, 67, 84, 86, 86, 94,\n",
       "       64, 95, 43, 64, 53, 57, 82, 35, 78, 38, 97, 68, 92, 49, 93, 37, 32,\n",
       "       54, 38, 78, 90, 46, 96, 62, 69, 57, 73, 96, 85, 78, 32, 92, 64, 78,\n",
       "       96, 92, 72, 61, 62, 88, 75, 77, 93, 91, 80, 37, 96, 86, 79, 89, 31,\n",
       "       46, 82, 35])"
      ]
     },
     "execution_count": 121,
     "metadata": {},
     "output_type": "execute_result"
    }
   ],
   "source": [
    "masyvas[masyvas > 30]"
   ]
  },
  {
   "cell_type": "code",
   "execution_count": 124,
   "metadata": {},
   "outputs": [
    {
     "name": "stdout",
     "output_type": "stream",
     "text": [
      "[ True False False  True False  True False False False  True False False\n",
      " False False  True False False False False False False False False False\n",
      " False False False False False False False False False False False False\n",
      "  True False  True False  True  True  True False False False  True False\n",
      " False False False  True False False False False False  True False False\n",
      "  True False False False  True  True False False  True False False  True\n",
      " False False False False False False  True False False  True False  True\n",
      "  True  True False False False False  True False  True  True False  True\n",
      "  True False False False]\n"
     ]
    }
   ],
   "source": [
    "iki_30 = masyvas < 30\n",
    "print(iki_30)"
   ]
  },
  {
   "cell_type": "code",
   "execution_count": 125,
   "metadata": {},
   "outputs": [
    {
     "data": {
      "text/plain": [
       "array([11,  8, 13, 21,  3, 20, 16, 27,  2, 22,  5, 18,  3,  8,  6, 13,  0,\n",
       "       16, 18, 19, 19, 20,  2, 19, 16, 14,  2,  8])"
      ]
     },
     "execution_count": 125,
     "metadata": {},
     "output_type": "execute_result"
    }
   ],
   "source": [
    "masyvas[iki_30]"
   ]
  },
  {
   "cell_type": "code",
   "execution_count": 126,
   "metadata": {},
   "outputs": [
    {
     "data": {
      "text/plain": [
       "array([30, 93, 72, 30, 42, 30, 81, 61, 62, 30, 51, 47, 30, 65, 30, 32, 86,\n",
       "       81, 67, 84, 86, 86, 94, 64, 95, 43, 64, 53, 57, 82, 35, 78, 38, 97,\n",
       "       68, 92, 30, 49, 30, 93, 30, 30, 30, 37, 32, 54, 30, 38, 78, 90, 46,\n",
       "       30, 96, 62, 69, 57, 73, 30, 96, 85, 30, 78, 32, 92, 30, 30, 64, 78,\n",
       "       30, 96, 92, 30, 72, 61, 62, 88, 75, 77, 30, 93, 91, 30, 80, 30, 30,\n",
       "       30, 37, 96, 86, 79, 30, 89, 30, 30, 31, 30, 30, 46, 82, 35])"
      ]
     },
     "execution_count": 126,
     "metadata": {},
     "output_type": "execute_result"
    }
   ],
   "source": [
    "masyvas[iki_30] = 30\n",
    "masyvas"
   ]
  },
  {
   "cell_type": "code",
   "execution_count": 133,
   "metadata": {},
   "outputs": [
    {
     "data": {
      "text/plain": [
       "array([34, 67, 67, 67,  0, 27, 67, 67,  0,  0, 67, 67, 43, 28, 23, 37, 28,\n",
       "       67,  2, 32])"
      ]
     },
     "execution_count": 133,
     "metadata": {},
     "output_type": "execute_result"
    }
   ],
   "source": [
    "naujas = np.random.randint(0, 100, 20)\n",
    "naujas[naujas > 50] = np.random.randint(0, 100)\n",
    "naujas"
   ]
  },
  {
   "cell_type": "code",
   "execution_count": 145,
   "metadata": {},
   "outputs": [
    {
     "name": "stdout",
     "output_type": "stream",
     "text": [
      "[87 30  2 31 46 93  0 23 38 50 45 88 38 59 87 50 87 70 34 61 10 30 68 73\n",
      " 99 68 97 60 98 36 25 38 80 66 48 84 74 52 18 76  0 76 90 96 49  0 55 26\n",
      "  3 57 15 77 43 53 18 76 49 36 52 51 95 81 61 70 12 79 13 39 43 42  7  2\n",
      " 75 62 86 59 16 24 27 65 29 11 87 18 33 35 68 40 98 65 44 14 62 23 39  6\n",
      " 28  3  8 51]\n",
      "[87 30  2 31 46 93  0 23 38 50 45 88 38 59 87 50 87 70 34 61 10 30 68 73\n",
      " 99 68 97 60 98 36 99 99 99 99 99 99 99 99 99 99 99 99 99 99 99 99 99 99\n",
      " 99 99 99 99 99 99 99 99 99 99 99 99 95 81 61 70 12 79 13 39 43 42  7  2\n",
      " 75 62 86 59 16 24 27 65 29 11 87 18 33 35 68 40 98 65 44 14 62 23 39  6\n",
      " 28  3  8 51]\n",
      "[99 99 99 99 99 99 99 99 99 99 99 99 99 99 99 99 99 99 99 99 99 99 99 99\n",
      " 99 99 99 99 99 99]\n"
     ]
    }
   ],
   "source": [
    "kopija = masyvas.copy()\n",
    "ispjova = kopija[30:60]\n",
    "ispjova[:] = 99\n",
    "print(masyvas)\n",
    "print(kopija)\n",
    "print(ispjova)"
   ]
  },
  {
   "cell_type": "code",
   "execution_count": 142,
   "metadata": {},
   "outputs": [
    {
     "data": {
      "text/plain": [
       "array([ True,  True,  True,  True,  True,  True,  True,  True,  True,\n",
       "        True,  True,  True,  True,  True,  True,  True,  True,  True,\n",
       "        True,  True,  True,  True,  True,  True,  True,  True,  True,\n",
       "        True,  True,  True,  True,  True,  True,  True,  True,  True,\n",
       "        True,  True,  True,  True,  True,  True,  True,  True,  True,\n",
       "        True,  True,  True,  True,  True,  True,  True,  True,  True,\n",
       "        True,  True,  True,  True,  True,  True,  True,  True,  True,\n",
       "        True,  True,  True,  True,  True,  True,  True,  True,  True,\n",
       "        True,  True,  True,  True,  True,  True,  True,  True,  True,\n",
       "        True,  True,  True,  True,  True,  True,  True,  True,  True,\n",
       "        True,  True,  True,  True,  True,  True,  True,  True,  True,\n",
       "        True])"
      ]
     },
     "execution_count": 142,
     "metadata": {},
     "output_type": "execute_result"
    }
   ],
   "source": [
    "masyvas.copy() == masyvas"
   ]
  },
  {
   "cell_type": "code",
   "execution_count": 153,
   "metadata": {},
   "outputs": [
    {
     "data": {
      "text/plain": [
       "array([30, 31, 46, 38, 50, 45, 38, 59, 50, 34, 30, 36, 38, 48, 52, 49, 55,\n",
       "       57, 43, 53, 49, 36, 52, 51, 39, 43, 42, 59, 33, 35, 40, 44, 39, 51])"
      ]
     },
     "execution_count": 153,
     "metadata": {},
     "output_type": "execute_result"
    }
   ],
   "source": [
    "tarpinis = masyvas[masyvas >= 30]\n",
    "tarpinis[tarpinis < 60]"
   ]
  },
  {
   "cell_type": "markdown",
   "metadata": {},
   "source": [
    "# matematinės operacijos"
   ]
  },
  {
   "cell_type": "code",
   "execution_count": 155,
   "metadata": {},
   "outputs": [
    {
     "data": {
      "text/plain": [
       "array([ 1,  2,  3,  4,  5,  6,  7,  8,  9, 10])"
      ]
     },
     "execution_count": 155,
     "metadata": {},
     "output_type": "execute_result"
    }
   ],
   "source": [
    "vektorius = np.arange(1, 11, 1)\n",
    "vektorius"
   ]
  },
  {
   "cell_type": "code",
   "execution_count": 159,
   "metadata": {},
   "outputs": [
    {
     "data": {
      "text/plain": [
       "array([   1,    8,   27,   64,  125,  216,  343,  512,  729, 1000])"
      ]
     },
     "execution_count": 159,
     "metadata": {},
     "output_type": "execute_result"
    }
   ],
   "source": [
    "vektorius ** 3"
   ]
  },
  {
   "cell_type": "code",
   "execution_count": 164,
   "metadata": {},
   "outputs": [
    {
     "data": {
      "text/plain": [
       "array([  1.,   4.,   9.,  16.,  25.,  36.,  49.,  64.,  81., 100.])"
      ]
     },
     "execution_count": 164,
     "metadata": {},
     "output_type": "execute_result"
    }
   ],
   "source": [
    "vektorius ** 3 / vektorius"
   ]
  },
  {
   "cell_type": "code",
   "execution_count": 165,
   "metadata": {},
   "outputs": [
    {
     "name": "stderr",
     "output_type": "stream",
     "text": [
      "/tmp/ipykernel_10035/17242066.py:1: RuntimeWarning: divide by zero encountered in divide\n",
      "  vektorius / 0\n"
     ]
    },
    {
     "data": {
      "text/plain": [
       "array([inf, inf, inf, inf, inf, inf, inf, inf, inf, inf])"
      ]
     },
     "execution_count": 165,
     "metadata": {},
     "output_type": "execute_result"
    }
   ],
   "source": [
    "vektorius / 0"
   ]
  },
  {
   "cell_type": "code",
   "execution_count": 167,
   "metadata": {},
   "outputs": [
    {
     "data": {
      "text/plain": [
       "array([10.1, 10.2, 10.3, 10.4, 10.5, 10.6, 10.7, 10.8, 10.9, 11. ])"
      ]
     },
     "execution_count": 167,
     "metadata": {},
     "output_type": "execute_result"
    }
   ],
   "source": [
    "(vektorius + 100) / 10"
   ]
  },
  {
   "cell_type": "code",
   "execution_count": 168,
   "metadata": {},
   "outputs": [
    {
     "data": {
      "text/plain": [
       "array([ 0.84147098,  0.90929743,  0.14112001, -0.7568025 , -0.95892427,\n",
       "       -0.2794155 ,  0.6569866 ,  0.98935825,  0.41211849, -0.54402111])"
      ]
     },
     "execution_count": 168,
     "metadata": {},
     "output_type": "execute_result"
    }
   ],
   "source": [
    "np.sin(vektorius)"
   ]
  },
  {
   "cell_type": "code",
   "execution_count": 169,
   "metadata": {},
   "outputs": [
    {
     "data": {
      "text/plain": [
       "array([ 1.55740772, -2.18503986, -0.14254654,  1.15782128, -3.38051501,\n",
       "       -0.29100619,  0.87144798, -6.79971146, -0.45231566,  0.64836083])"
      ]
     },
     "execution_count": 169,
     "metadata": {},
     "output_type": "execute_result"
    }
   ],
   "source": [
    "np.tan(vektorius)"
   ]
  },
  {
   "cell_type": "code",
   "execution_count": 171,
   "metadata": {},
   "outputs": [
    {
     "data": {
      "text/plain": [
       "array([  1,   4,   9,  16,  25,  36,  49,  64,  81, 100])"
      ]
     },
     "execution_count": 171,
     "metadata": {},
     "output_type": "execute_result"
    }
   ],
   "source": [
    "vektorius ** 2"
   ]
  },
  {
   "cell_type": "code",
   "execution_count": 170,
   "metadata": {},
   "outputs": [
    {
     "data": {
      "text/plain": [
       "array([0.        , 1.38629436, 2.19722458, 2.77258872, 3.21887582,\n",
       "       3.58351894, 3.8918203 , 4.15888308, 4.39444915, 4.60517019])"
      ]
     },
     "execution_count": 170,
     "metadata": {},
     "output_type": "execute_result"
    }
   ],
   "source": [
    "np.log(vektorius ** 2)"
   ]
  }
 ],
 "metadata": {
  "kernelspec": {
   "display_name": "Python 3.8.10 ('venv': venv)",
   "language": "python",
   "name": "python3"
  },
  "language_info": {
   "codemirror_mode": {
    "name": "ipython",
    "version": 3
   },
   "file_extension": ".py",
   "mimetype": "text/x-python",
   "name": "python",
   "nbconvert_exporter": "python",
   "pygments_lexer": "ipython3",
   "version": "3.8.10"
  },
  "orig_nbformat": 4,
  "vscode": {
   "interpreter": {
    "hash": "a2cddde078377394000f0627eefad8bfa1b68388b6babd3050c29259627b7066"
   }
  }
 },
 "nbformat": 4,
 "nbformat_minor": 2
}
